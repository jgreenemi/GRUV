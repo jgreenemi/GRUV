{
 "cells": [
  {
   "cell_type": "markdown",
   "metadata": {},
   "source": [
    "## GRUV - A Modified Implementation"
   ]
  },
  {
   "cell_type": "markdown",
   "metadata": {},
   "source": [
    "As the name implies, this will be my work on turning the GRUV repo from Stanford into a usable music-making utility, for music producers' benefit. Contributions are welcome, as this is made to turn a research project into a useful tool in a music maker's toolkit."
   ]
  },
  {
   "cell_type": "code",
   "execution_count": 2,
   "metadata": {},
   "outputs": [
    {
     "ename": "SyntaxError",
     "evalue": "invalid syntax (parse_files.py, line 124)",
     "output_type": "error",
     "traceback": [
      "\u001b[0;36m  File \u001b[0;32m\"/home/ubuntu/prjx/GRUV/data_utils/parse_files.py\"\u001b[0;36m, line \u001b[0;32m124\u001b[0m\n\u001b[0;31m    print 'Processing: ', (file_idx+1),'/',num_files\u001b[0m\n\u001b[0m                       ^\u001b[0m\n\u001b[0;31mSyntaxError\u001b[0m\u001b[0;31m:\u001b[0m invalid syntax\n"
     ]
    }
   ],
   "source": [
    "# Imports from convert_dictionary.py\n",
    "from data_utils.parse_files import *\n",
    "import config.nn_config as nn_config"
   ]
  },
  {
   "cell_type": "code",
   "execution_count": 4,
   "metadata": {
    "collapsed": true
   },
   "outputs": [],
   "source": [
    "def convert_dictionary():\n",
    "    config = nn_config.get_neural_net_configuration()\n",
    "    input_directory = config['dataset_directory']\n",
    "    output_filename = config['model_file'] \n",
    "\n",
    "    freq = config['sampling_frequency'] #sample frequency in Hz\n",
    "    clip_len = 10 \t\t#length of clips for training. Defined in seconds\n",
    "    block_size = freq / 4 #block sizes used for training - this defines the size of our input state\n",
    "    max_seq_len = int(round((freq * clip_len) / block_size)) #Used later for zero-padding song sequences\n",
    "    #Step 1 - convert MP3s to WAVs\n",
    "    new_directory = convert_folder_to_wav(input_directory, freq)\n",
    "    #Step 2 - convert WAVs to frequency domain with mean 0 and standard deviation of 1\n",
    "    convert_wav_files_to_nptensor(new_directory, block_size, max_seq_len, output_filename)"
   ]
  },
  {
   "cell_type": "code",
   "execution_count": null,
   "metadata": {
    "collapsed": true
   },
   "outputs": [],
   "source": []
  }
 ],
 "metadata": {
  "kernelspec": {
   "display_name": "Python 3",
   "language": "python",
   "name": "python3"
  },
  "language_info": {
   "codemirror_mode": {
    "name": "ipython",
    "version": 3
   },
   "file_extension": ".py",
   "mimetype": "text/x-python",
   "name": "python",
   "nbconvert_exporter": "python",
   "pygments_lexer": "ipython3",
   "version": "3.6.1"
  }
 },
 "nbformat": 4,
 "nbformat_minor": 2
}
